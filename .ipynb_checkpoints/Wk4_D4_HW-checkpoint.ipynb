{
 "cells": [
  {
   "cell_type": "markdown",
   "id": "ffcac7d0",
   "metadata": {},
   "source": [
    "In-Class Exercise #3\n",
    "Print each persons name and twitter handle, using groups, should look like:\n",
    "\n",
    "==============\n",
    "Full Name / Twitter\n",
    "==============\n",
    "\n",
    "Derek Hawkins / @derekhawkins\n",
    "Erik Sven-Osterberg / @sverik\n",
    "\n",
    "Ryan Butz / @ryanbutz\n",
    "\n",
    "Example Exampleson / @example\n",
    "\n",
    "Ripal Pael / @ripalp\n",
    "\n",
    "Darth Vader / @darthvader"
   ]
  },
  {
   "cell_type": "code",
   "execution_count": 13,
   "id": "8e9f8624",
   "metadata": {},
   "outputs": [
    {
     "name": "stdout",
     "output_type": "stream",
     "text": [
      "Derek Hawkins \t@derekhawkins\n",
      "Sven Osterberg \t@sverik\n",
      "Ryan Butz \t@ryanbutz\n",
      "Example Exampleson \t@example\n",
      "Ripal Pael \t@ripalp\n",
      "Darth Vader \t@darthvader\n"
     ]
    }
   ],
   "source": [
    "import re\n",
    "\n",
    "with open('names1.txt') as f:\n",
    "    data = f.readlines()\n",
    " #   print(data)\n",
    "#print(type(data))\n",
    "\n",
    "handle = re.compile(\"([\\s]@[a-z]+)\")\n",
    "name = re.compile('([A-Z][\\w]+), ([A-Z][A-z]+)')\n",
    "\n",
    "    \n",
    "for thing in data:\n",
    "    twitter_match = handle.search(thing)\n",
    "    name_match = name.search(thing)\n",
    "    \n",
    "    if name_match and twitter_match:\n",
    "        print(name_match.group(2), name_match.group(1), twitter_match.group(1))\n",
    "  \n",
    "        \n",
    "    \n",
    "        \n",
    "    #print(name_match)\n",
    "    #print(twitter_match)\n"
   ]
  },
  {
   "cell_type": "markdown",
   "id": "7067037c",
   "metadata": {},
   "source": [
    "Regex project\n",
    "Use python to read the file regex_test.txt and print the last name on each line using regular expressions and groups (return None for names with no first and last name, or names that aren't properly capitalized)\n",
    "\n",
    "Hint: use with open() and readlines()"
   ]
  },
  {
   "cell_type": "code",
   "execution_count": 130,
   "id": "0bffd06f",
   "metadata": {},
   "outputs": [
    {
     "name": "stdout",
     "output_type": "stream",
     "text": [
      "Abraham Lincoln\n",
      "Andrew P Garfield\n",
      "Connor Milliken\n",
      "Jordan Alexander Williams\n",
      "Madonna\n",
      "programming is cool\n",
      "\n",
      "['Abraham ', 'Andrew ', 'P ', 'Connor ', 'Jordan ', 'Alexander ']\n",
      "['Abraham ', 'Andrew ', 'P ', 'Connor ', 'Jordan ', 'Alexander ']\n"
     ]
    }
   ],
   "source": [
    "import re\n",
    "\n",
    "with open('regex_test.txt') as f:\n",
    "    data = f.read()\n",
    "    print(data)\n",
    "    \n",
    "                            #group1\n",
    "pattern_name = re.compile('[A-Z][a-zA-Z]*(?: [A-Z][a-zA-Z]*)?(?: [A-Z]\\.)?')\n",
    "found_names = pattern_name.findall(data)\n",
    "print(found_names)\n",
    "\n",
    "pattern_name1 = re.compile('[A-Z][a-zA-Z]*(?: [A-Z][a-zA-Z]*)?(?: [A-Z]\\.)?')  \n",
    "found_names = pattern_name1.findall(data)\n",
    "print(found_names)\n",
    "\n",
    "#([A-Z]?[a-z]?[\\w]+) ([A-Z][a-z]+)')\n",
    "\n",
    "#'[A-Z][a-zA-Z]*(?: [A-Z][a-zA-Z]*)?(?: [A-Z]\\.)?'"
   ]
  },
  {
   "cell_type": "code",
   "execution_count": null,
   "id": "afbd320f",
   "metadata": {},
   "outputs": [],
   "source": []
  },
  {
   "cell_type": "code",
   "execution_count": null,
   "id": "0dd8654e",
   "metadata": {},
   "outputs": [],
   "source": []
  },
  {
   "cell_type": "code",
   "execution_count": null,
   "id": "9e71be1c",
   "metadata": {},
   "outputs": [],
   "source": []
  },
  {
   "cell_type": "code",
   "execution_count": null,
   "id": "490bfe4c",
   "metadata": {},
   "outputs": [],
   "source": []
  }
 ],
 "metadata": {
  "kernelspec": {
   "display_name": "Python 3 (ipykernel)",
   "language": "python",
   "name": "python3"
  },
  "language_info": {
   "codemirror_mode": {
    "name": "ipython",
    "version": 3
   },
   "file_extension": ".py",
   "mimetype": "text/x-python",
   "name": "python",
   "nbconvert_exporter": "python",
   "pygments_lexer": "ipython3",
   "version": "3.10.9"
  }
 },
 "nbformat": 4,
 "nbformat_minor": 5
}
